{
 "cells": [
  {
   "cell_type": "markdown",
   "metadata": {},
   "source": [
    "#### Adagrad"
   ]
  },
  {
   "cell_type": "code",
   "execution_count": 4,
   "metadata": {},
   "outputs": [
    {
     "name": "stdout",
     "output_type": "stream",
     "text": [
      "[[-1.9]\n",
      " [ 1.9]] [7.22]\n"
     ]
    }
   ],
   "source": [
    "import numpy as np\n",
    "import math\n",
    "\n",
    "def gradf(x):\n",
    "    x = np.array(x).reshape(np.size(x))\n",
    "    return np.array([[2*x[0]], [2*x[1]]])\n",
    "\n",
    "\n",
    "def najbrzi_pad(x0, tol, N, gamma, epsilon):\n",
    "    x = np.array(x0).reshape(len(x0), 1)\n",
    "    G = 0\n",
    "\n",
    "    for i in range(N):\n",
    "        gradijent = gradf(x)\n",
    "        G = G + np.multiply(gradijent, gradijent)\n",
    "        x = x - gamma * gradijent / (np.sqrt(G + epsilon))\n",
    "        if np.linalg.norm(gradijent) < tol:\n",
    "            break\n",
    "\n",
    "        f_opt = x[0]**2 + x[1]**2\n",
    "        return x, f_opt\n",
    "\n",
    "\n",
    "x, z = najbrzi_pad([-2, 2], 1e-4, 100, 0.1, 1e-8)\n",
    "\n",
    "print(x, z)"
   ]
  }
 ],
 "metadata": {
  "kernelspec": {
   "display_name": "Python 3",
   "language": "python",
   "name": "python3"
  },
  "language_info": {
   "codemirror_mode": {
    "name": "ipython",
    "version": 3
   },
   "file_extension": ".py",
   "mimetype": "text/x-python",
   "name": "python",
   "nbconvert_exporter": "python",
   "pygments_lexer": "ipython3",
   "version": "3.13.0"
  }
 },
 "nbformat": 4,
 "nbformat_minor": 2
}
